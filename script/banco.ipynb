{
 "cells": [
  {
   "cell_type": "code",
   "execution_count": 3,
   "metadata": {},
   "outputs": [],
   "source": [
    "from sqlalchemy import create_engine\n",
    "import pandas as pd\n",
    "engine = create_engine('sqlite:///banco.db', echo=True)\n",
    "dados = pd.read_csv('../bases_tratadas/amostra_presentes_enem_bruto1.csv')\n",
    " "
   ]
  },
  {
   "cell_type": "code",
   "execution_count": 4,
   "metadata": {},
   "outputs": [
    {
     "name": "stdout",
     "output_type": "stream",
     "text": [
      "2024-11-26 20:02:02,821 INFO sqlalchemy.engine.Engine BEGIN (implicit)\n",
      "2024-11-26 20:02:02,834 INFO sqlalchemy.engine.Engine PRAGMA main.table_info(\"dados\")\n",
      "2024-11-26 20:02:02,834 INFO sqlalchemy.engine.Engine [raw sql] ()\n",
      "2024-11-26 20:02:02,837 INFO sqlalchemy.engine.Engine PRAGMA temp.table_info(\"dados\")\n",
      "2024-11-26 20:02:02,838 INFO sqlalchemy.engine.Engine [raw sql] ()\n",
      "2024-11-26 20:02:02,841 INFO sqlalchemy.engine.Engine \n",
      "CREATE TABLE dados (\n",
      "\t\"TP_SEXO\" TEXT, \n",
      "\t\"SG_UF_ESC\" TEXT, \n",
      "\t\"NU_NOTA_MT\" FLOAT, \n",
      "\t\"NU_NOTA_REDACAO\" FLOAT, \n",
      "\t\"R_Q002\" TEXT, \n",
      "\t\"R_Q006\" TEXT, \n",
      "\t\"R_TP_ESCOLA\" TEXT\n",
      ")\n",
      "\n",
      "\n",
      "2024-11-26 20:02:02,842 INFO sqlalchemy.engine.Engine [no key 0.00094s] ()\n",
      "2024-11-26 20:02:03,446 INFO sqlalchemy.engine.Engine INSERT INTO dados (\"TP_SEXO\", \"SG_UF_ESC\", \"NU_NOTA_MT\", \"NU_NOTA_REDACAO\", \"R_Q002\", \"R_Q006\", \"R_TP_ESCOLA\") VALUES (?, ?, ?, ?, ?, ?, ?)\n",
      "2024-11-26 20:02:03,446 INFO sqlalchemy.engine.Engine [generated in 0.40492s] [('F', 'Desconhecido', 675.8, 800.0, 'Completou o Ensino Medio, mas nao completou a Faculdade.', 'De 1.320,01 ate 1.980,00', 'Publica'), ('M', 'Desconhecido', 495.1, 600.0, 'Completou a 8 serie/9 ano do Ensino Fundamental, mas nao completou o Ensino Medio.', 'De 1.320,01 ate 1.980,00', 'Nao respondeu'), ('F', 'ES', 758.3, 920.0, 'Completou o Ensino Medio, mas nao completou a Faculdade.', 'De 1.320,01 ate 1.980,00', 'Publica'), ('M', 'RJ', 757.6, 600.0, 'Completou o Ensino Medio, mas nao completou a Faculdade.', 'Ate 1.320,00', 'Publica'), ('F', 'Desconhecido', 495.0, 640.0, 'Completou a Faculdade, mas nao completou a Pos graduaçao.', 'De 1.320,01 ate 1.980,00', 'Nao respondeu'), ('F', 'SP', 539.0, 620.0, 'Completou o Ensino Medio, mas nao completou a Faculdade.', 'De 2.640,01 ate 3.300,00.', 'Publica'), ('F', 'Desconhecido', 541.4, 700.0, 'Completou o Ensino Medio, mas nao completou a Faculdade.', 'De 2.640,01 ate 3.300,00.', 'Publica'), ('M', 'Desconhecido', 569.5, 620.0, 'Completou o Ensino Medio, mas nao completou a Faculdade.', 'De 15.840,01 ate 19.800,00.', 'Nao respondeu')  ... displaying 10 of 100000 total bound parameter sets ...  ('M', 'Desconhecido', 421.6, 720.0, 'Completou a Faculdade, mas nao completou a Pos graduaçao.', 'De 3.960,01 ate 5.280,00.', 'Nao respondeu'), ('F', 'Desconhecido', 607.9, 920.0, 'Completou a Pos graduaçao.', 'De 2.640,01 ate 3.300,00.', 'Nao respondeu')]\n",
      "2024-11-26 20:02:03,622 INFO sqlalchemy.engine.Engine COMMIT\n"
     ]
    },
    {
     "data": {
      "text/plain": [
       "100000"
      ]
     },
     "execution_count": 4,
     "metadata": {},
     "output_type": "execute_result"
    }
   ],
   "source": [
    "dados.to_sql('dados', con=engine, if_exists='replace', index=False) "
   ]
  }
 ],
 "metadata": {
  "kernelspec": {
   "display_name": "Python 3",
   "language": "python",
   "name": "python3"
  },
  "language_info": {
   "codemirror_mode": {
    "name": "ipython",
    "version": 3
   },
   "file_extension": ".py",
   "mimetype": "text/x-python",
   "name": "python",
   "nbconvert_exporter": "python",
   "pygments_lexer": "ipython3",
   "version": "3.12.6"
  }
 },
 "nbformat": 4,
 "nbformat_minor": 2
}
